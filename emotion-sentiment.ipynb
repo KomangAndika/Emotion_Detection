{
 "cells": [
  {
   "cell_type": "code",
   "execution_count": 1,
   "id": "6ea02bae",
   "metadata": {
    "_cell_guid": "b1076dfc-b9ad-4769-8c92-a6c4dae69d19",
    "_uuid": "8f2839f25d086af736a60e9eeb907d3b93b6e0e5",
    "execution": {
     "iopub.execute_input": "2023-12-29T09:41:33.907713Z",
     "iopub.status.busy": "2023-12-29T09:41:33.907366Z",
     "iopub.status.idle": "2023-12-29T09:41:35.146067Z",
     "shell.execute_reply": "2023-12-29T09:41:35.144917Z"
    },
    "papermill": {
     "duration": 1.25515,
     "end_time": "2023-12-29T09:41:35.148230",
     "exception": false,
     "start_time": "2023-12-29T09:41:33.893080",
     "status": "completed"
    },
    "tags": []
   },
   "outputs": [
    {
     "name": "stdout",
     "output_type": "stream",
     "text": [
      "/kaggle/input/emotion-detection-from-text/tweet_emotions.csv\n"
     ]
    }
   ],
   "source": [
    "import numpy as np \n",
    "import pandas as pd \n",
    "import os\n",
    "import warnings\n",
    "warnings.filterwarnings(\"ignore\")\n",
    "for dirname, _, filenames in os.walk('/kaggle/input'):\n",
    "    for filename in filenames:\n",
    "        print(os.path.join(dirname, filename))"
   ]
  },
  {
   "cell_type": "code",
   "execution_count": 2,
   "id": "038a0cbe",
   "metadata": {
    "execution": {
     "iopub.execute_input": "2023-12-29T09:41:35.175936Z",
     "iopub.status.busy": "2023-12-29T09:41:35.175493Z",
     "iopub.status.idle": "2023-12-29T09:41:35.326820Z",
     "shell.execute_reply": "2023-12-29T09:41:35.326028Z"
    },
    "papermill": {
     "duration": 0.167773,
     "end_time": "2023-12-29T09:41:35.329150",
     "exception": false,
     "start_time": "2023-12-29T09:41:35.161377",
     "status": "completed"
    },
    "tags": []
   },
   "outputs": [],
   "source": [
    "df = pd.read_csv(\"/kaggle/input/emotion-detection-from-text/tweet_emotions.csv\")"
   ]
  },
  {
   "cell_type": "markdown",
   "id": "6d3711fb",
   "metadata": {
    "papermill": {
     "duration": 0.012597,
     "end_time": "2023-12-29T09:41:35.354615",
     "exception": false,
     "start_time": "2023-12-29T09:41:35.342018",
     "status": "completed"
    },
    "tags": []
   },
   "source": [
    "## <p style=\"border: 2px solid black; font-family: Arial, sans-serif; font-size: 200%; text-align: center; color: black; padding: 10px;border-radius: 10px;\">Problem Understanding</p>"
   ]
  },
  {
   "cell_type": "markdown",
   "id": "35d59c6b",
   "metadata": {
    "papermill": {
     "duration": 0.012566,
     "end_time": "2023-12-29T09:41:35.379772",
     "exception": false,
     "start_time": "2023-12-29T09:41:35.367206",
     "status": "completed"
    },
    "tags": []
   },
   "source": [
    "Mengenali emosi dari teks sangat penting untuk memahami pesan manusia di berbagai platform online. Di era media sosial, kemampuan untuk mengidentifikasi dengan akurat emosi yang disampaikan dalam tulisan sangat berharga. Dataset \"Emotion Detection from Text\" menjadi dasar proyek text mining ini. Proyek ini bertujuan membangun model sentiment analysis yang kua dan mampu membedakan berbagai kondisi emosional dari tweet."
   ]
  },
  {
   "cell_type": "markdown",
   "id": "1694af78",
   "metadata": {
    "papermill": {
     "duration": 0.012624,
     "end_time": "2023-12-29T09:41:35.404866",
     "exception": false,
     "start_time": "2023-12-29T09:41:35.392242",
     "status": "completed"
    },
    "tags": []
   },
   "source": [
    "## <p style=\"border: 2px solid black; font-family: Arial, sans-serif; font-size: 200%; text-align: center; color: black; padding: 10px;border-radius: 10px;\">EDA</p>"
   ]
  },
  {
   "cell_type": "code",
   "execution_count": 3,
   "id": "23534d82",
   "metadata": {
    "execution": {
     "iopub.execute_input": "2023-12-29T09:41:35.431630Z",
     "iopub.status.busy": "2023-12-29T09:41:35.431310Z",
     "iopub.status.idle": "2023-12-29T09:41:37.180619Z",
     "shell.execute_reply": "2023-12-29T09:41:37.179830Z"
    },
    "papermill": {
     "duration": 1.76568,
     "end_time": "2023-12-29T09:41:37.183049",
     "exception": false,
     "start_time": "2023-12-29T09:41:35.417369",
     "status": "completed"
    },
    "tags": []
   },
   "outputs": [],
   "source": [
    "import seaborn as sns\n",
    "import matplotlib.pyplot as plt"
   ]
  },
  {
   "cell_type": "code",
   "execution_count": 4,
   "id": "4a0b3bbb",
   "metadata": {
    "execution": {
     "iopub.execute_input": "2023-12-29T09:41:37.211063Z",
     "iopub.status.busy": "2023-12-29T09:41:37.210741Z",
     "iopub.status.idle": "2023-12-29T09:41:37.231429Z",
     "shell.execute_reply": "2023-12-29T09:41:37.230590Z"
    },
    "papermill": {
     "duration": 0.036461,
     "end_time": "2023-12-29T09:41:37.233485",
     "exception": false,
     "start_time": "2023-12-29T09:41:37.197024",
     "status": "completed"
    },
    "tags": []
   },
   "outputs": [
    {
     "data": {
      "text/html": [
       "<div>\n",
       "<style scoped>\n",
       "    .dataframe tbody tr th:only-of-type {\n",
       "        vertical-align: middle;\n",
       "    }\n",
       "\n",
       "    .dataframe tbody tr th {\n",
       "        vertical-align: top;\n",
       "    }\n",
       "\n",
       "    .dataframe thead th {\n",
       "        text-align: right;\n",
       "    }\n",
       "</style>\n",
       "<table border=\"1\" class=\"dataframe\">\n",
       "  <thead>\n",
       "    <tr style=\"text-align: right;\">\n",
       "      <th></th>\n",
       "      <th>tweet_id</th>\n",
       "      <th>sentiment</th>\n",
       "      <th>content</th>\n",
       "    </tr>\n",
       "  </thead>\n",
       "  <tbody>\n",
       "    <tr>\n",
       "      <th>0</th>\n",
       "      <td>1956967341</td>\n",
       "      <td>empty</td>\n",
       "      <td>@tiffanylue i know  i was listenin to bad habi...</td>\n",
       "    </tr>\n",
       "    <tr>\n",
       "      <th>1</th>\n",
       "      <td>1956967666</td>\n",
       "      <td>sadness</td>\n",
       "      <td>Layin n bed with a headache  ughhhh...waitin o...</td>\n",
       "    </tr>\n",
       "    <tr>\n",
       "      <th>2</th>\n",
       "      <td>1956967696</td>\n",
       "      <td>sadness</td>\n",
       "      <td>Funeral ceremony...gloomy friday...</td>\n",
       "    </tr>\n",
       "    <tr>\n",
       "      <th>3</th>\n",
       "      <td>1956967789</td>\n",
       "      <td>enthusiasm</td>\n",
       "      <td>wants to hang out with friends SOON!</td>\n",
       "    </tr>\n",
       "    <tr>\n",
       "      <th>4</th>\n",
       "      <td>1956968416</td>\n",
       "      <td>neutral</td>\n",
       "      <td>@dannycastillo We want to trade with someone w...</td>\n",
       "    </tr>\n",
       "  </tbody>\n",
       "</table>\n",
       "</div>"
      ],
      "text/plain": [
       "     tweet_id   sentiment                                            content\n",
       "0  1956967341       empty  @tiffanylue i know  i was listenin to bad habi...\n",
       "1  1956967666     sadness  Layin n bed with a headache  ughhhh...waitin o...\n",
       "2  1956967696     sadness                Funeral ceremony...gloomy friday...\n",
       "3  1956967789  enthusiasm               wants to hang out with friends SOON!\n",
       "4  1956968416     neutral  @dannycastillo We want to trade with someone w..."
      ]
     },
     "execution_count": 4,
     "metadata": {},
     "output_type": "execute_result"
    }
   ],
   "source": [
    "df.head()"
   ]
  },
  {
   "cell_type": "code",
   "execution_count": 5,
   "id": "bea4b026",
   "metadata": {
    "execution": {
     "iopub.execute_input": "2023-12-29T09:41:37.260754Z",
     "iopub.status.busy": "2023-12-29T09:41:37.260230Z",
     "iopub.status.idle": "2023-12-29T09:41:37.270681Z",
     "shell.execute_reply": "2023-12-29T09:41:37.269833Z"
    },
    "papermill": {
     "duration": 0.026308,
     "end_time": "2023-12-29T09:41:37.272687",
     "exception": false,
     "start_time": "2023-12-29T09:41:37.246379",
     "status": "completed"
    },
    "tags": []
   },
   "outputs": [
    {
     "data": {
      "text/html": [
       "<div>\n",
       "<style scoped>\n",
       "    .dataframe tbody tr th:only-of-type {\n",
       "        vertical-align: middle;\n",
       "    }\n",
       "\n",
       "    .dataframe tbody tr th {\n",
       "        vertical-align: top;\n",
       "    }\n",
       "\n",
       "    .dataframe thead th {\n",
       "        text-align: right;\n",
       "    }\n",
       "</style>\n",
       "<table border=\"1\" class=\"dataframe\">\n",
       "  <thead>\n",
       "    <tr style=\"text-align: right;\">\n",
       "      <th></th>\n",
       "      <th>tweet_id</th>\n",
       "      <th>sentiment</th>\n",
       "      <th>content</th>\n",
       "    </tr>\n",
       "  </thead>\n",
       "  <tbody>\n",
       "    <tr>\n",
       "      <th>39995</th>\n",
       "      <td>1753918954</td>\n",
       "      <td>neutral</td>\n",
       "      <td>@JohnLloydTaylor</td>\n",
       "    </tr>\n",
       "    <tr>\n",
       "      <th>39996</th>\n",
       "      <td>1753919001</td>\n",
       "      <td>love</td>\n",
       "      <td>Happy Mothers Day  All my love</td>\n",
       "    </tr>\n",
       "    <tr>\n",
       "      <th>39997</th>\n",
       "      <td>1753919005</td>\n",
       "      <td>love</td>\n",
       "      <td>Happy Mother's Day to all the mommies out ther...</td>\n",
       "    </tr>\n",
       "    <tr>\n",
       "      <th>39998</th>\n",
       "      <td>1753919043</td>\n",
       "      <td>happiness</td>\n",
       "      <td>@niariley WASSUP BEAUTIFUL!!! FOLLOW ME!!  PEE...</td>\n",
       "    </tr>\n",
       "    <tr>\n",
       "      <th>39999</th>\n",
       "      <td>1753919049</td>\n",
       "      <td>love</td>\n",
       "      <td>@mopedronin bullet train from tokyo    the gf ...</td>\n",
       "    </tr>\n",
       "  </tbody>\n",
       "</table>\n",
       "</div>"
      ],
      "text/plain": [
       "         tweet_id  sentiment  \\\n",
       "39995  1753918954    neutral   \n",
       "39996  1753919001       love   \n",
       "39997  1753919005       love   \n",
       "39998  1753919043  happiness   \n",
       "39999  1753919049       love   \n",
       "\n",
       "                                                 content  \n",
       "39995                                   @JohnLloydTaylor  \n",
       "39996                     Happy Mothers Day  All my love  \n",
       "39997  Happy Mother's Day to all the mommies out ther...  \n",
       "39998  @niariley WASSUP BEAUTIFUL!!! FOLLOW ME!!  PEE...  \n",
       "39999  @mopedronin bullet train from tokyo    the gf ...  "
      ]
     },
     "execution_count": 5,
     "metadata": {},
     "output_type": "execute_result"
    }
   ],
   "source": [
    "df.tail()"
   ]
  },
  {
   "cell_type": "code",
   "execution_count": 6,
   "id": "92f295a7",
   "metadata": {
    "execution": {
     "iopub.execute_input": "2023-12-29T09:41:37.300391Z",
     "iopub.status.busy": "2023-12-29T09:41:37.300090Z",
     "iopub.status.idle": "2023-12-29T09:41:37.337078Z",
     "shell.execute_reply": "2023-12-29T09:41:37.336016Z"
    },
    "papermill": {
     "duration": 0.053354,
     "end_time": "2023-12-29T09:41:37.339265",
     "exception": false,
     "start_time": "2023-12-29T09:41:37.285911",
     "status": "completed"
    },
    "tags": []
   },
   "outputs": [
    {
     "name": "stdout",
     "output_type": "stream",
     "text": [
      "<class 'pandas.core.frame.DataFrame'>\n",
      "RangeIndex: 40000 entries, 0 to 39999\n",
      "Data columns (total 3 columns):\n",
      " #   Column     Non-Null Count  Dtype \n",
      "---  ------     --------------  ----- \n",
      " 0   tweet_id   40000 non-null  int64 \n",
      " 1   sentiment  40000 non-null  object\n",
      " 2   content    40000 non-null  object\n",
      "dtypes: int64(1), object(2)\n",
      "memory usage: 937.6+ KB\n"
     ]
    }
   ],
   "source": [
    "df.info()"
   ]
  },
  {
   "cell_type": "markdown",
   "id": "bc6d4a89",
   "metadata": {
    "papermill": {
     "duration": 0.012981,
     "end_time": "2023-12-29T09:41:37.365696",
     "exception": false,
     "start_time": "2023-12-29T09:41:37.352715",
     "status": "completed"
    },
    "tags": []
   },
   "source": [
    "content masi dalam bentuk object dan harus diubah menjasi string agar bisa digunakan"
   ]
  },
  {
   "cell_type": "code",
   "execution_count": 7,
   "id": "8a7aad88",
   "metadata": {
    "execution": {
     "iopub.execute_input": "2023-12-29T09:41:37.393778Z",
     "iopub.status.busy": "2023-12-29T09:41:37.393088Z",
     "iopub.status.idle": "2023-12-29T09:41:37.402389Z",
     "shell.execute_reply": "2023-12-29T09:41:37.401498Z"
    },
    "papermill": {
     "duration": 0.025281,
     "end_time": "2023-12-29T09:41:37.404357",
     "exception": false,
     "start_time": "2023-12-29T09:41:37.379076",
     "status": "completed"
    },
    "tags": []
   },
   "outputs": [],
   "source": [
    "df['content'] = df['content'].astype(str)"
   ]
  },
  {
   "cell_type": "markdown",
   "id": "14626350",
   "metadata": {
    "papermill": {
     "duration": 0.012968,
     "end_time": "2023-12-29T09:41:37.430755",
     "exception": false,
     "start_time": "2023-12-29T09:41:37.417787",
     "status": "completed"
    },
    "tags": []
   },
   "source": [
    "## Dataset Overview"
   ]
  },
  {
   "cell_type": "code",
   "execution_count": 8,
   "id": "a771fd27",
   "metadata": {
    "execution": {
     "iopub.execute_input": "2023-12-29T09:41:37.505327Z",
     "iopub.status.busy": "2023-12-29T09:41:37.504658Z",
     "iopub.status.idle": "2023-12-29T09:41:37.510430Z",
     "shell.execute_reply": "2023-12-29T09:41:37.509580Z"
    },
    "papermill": {
     "duration": 0.02269,
     "end_time": "2023-12-29T09:41:37.512594",
     "exception": false,
     "start_time": "2023-12-29T09:41:37.489904",
     "status": "completed"
    },
    "tags": []
   },
   "outputs": [
    {
     "data": {
      "text/plain": [
       "(40000, 3)"
      ]
     },
     "execution_count": 8,
     "metadata": {},
     "output_type": "execute_result"
    }
   ],
   "source": [
    "df.shape"
   ]
  },
  {
   "cell_type": "code",
   "execution_count": 9,
   "id": "c81898f0",
   "metadata": {
    "execution": {
     "iopub.execute_input": "2023-12-29T09:41:37.540642Z",
     "iopub.status.busy": "2023-12-29T09:41:37.540332Z",
     "iopub.status.idle": "2023-12-29T09:41:37.550421Z",
     "shell.execute_reply": "2023-12-29T09:41:37.549680Z"
    },
    "papermill": {
     "duration": 0.026296,
     "end_time": "2023-12-29T09:41:37.552328",
     "exception": false,
     "start_time": "2023-12-29T09:41:37.526032",
     "status": "completed"
    },
    "tags": []
   },
   "outputs": [
    {
     "data": {
      "text/plain": [
       "0"
      ]
     },
     "execution_count": 9,
     "metadata": {},
     "output_type": "execute_result"
    }
   ],
   "source": [
    "df['sentiment'].isna().sum()"
   ]
  },
  {
   "cell_type": "code",
   "execution_count": 10,
   "id": "c38a59b6",
   "metadata": {
    "execution": {
     "iopub.execute_input": "2023-12-29T09:41:37.581572Z",
     "iopub.status.busy": "2023-12-29T09:41:37.581252Z",
     "iopub.status.idle": "2023-12-29T09:41:37.591654Z",
     "shell.execute_reply": "2023-12-29T09:41:37.590758Z"
    },
    "papermill": {
     "duration": 0.028043,
     "end_time": "2023-12-29T09:41:37.593919",
     "exception": false,
     "start_time": "2023-12-29T09:41:37.565876",
     "status": "completed"
    },
    "tags": []
   },
   "outputs": [
    {
     "data": {
      "text/plain": [
       "0"
      ]
     },
     "execution_count": 10,
     "metadata": {},
     "output_type": "execute_result"
    }
   ],
   "source": [
    "df['content'].isna().sum()"
   ]
  },
  {
   "cell_type": "markdown",
   "id": "4609d417",
   "metadata": {
    "papermill": {
     "duration": 0.01418,
     "end_time": "2023-12-29T09:41:37.622509",
     "exception": false,
     "start_time": "2023-12-29T09:41:37.608329",
     "status": "completed"
    },
    "tags": []
   },
   "source": [
    "### Persebaran Sentiment"
   ]
  },
  {
   "cell_type": "code",
   "execution_count": 11,
   "id": "39caf261",
   "metadata": {
    "execution": {
     "iopub.execute_input": "2023-12-29T09:41:37.652199Z",
     "iopub.status.busy": "2023-12-29T09:41:37.651867Z",
     "iopub.status.idle": "2023-12-29T09:41:38.027821Z",
     "shell.execute_reply": "2023-12-29T09:41:38.026927Z"
    },
    "papermill": {
     "duration": 0.393079,
     "end_time": "2023-12-29T09:41:38.030086",
     "exception": false,
     "start_time": "2023-12-29T09:41:37.637007",
     "status": "completed"
    },
    "tags": []
   },
   "outputs": [
    {
     "data": {
      "image/png": "[encoded data removed]",
      "text/plain": [
       "<Figure size 1200x1200 with 1 Axes>"
      ]
     },
     "metadata": {},
     "output_type": "display_data"
    }
   ],
   "source": [
    "plt.figure(figsize=(12, 12))\n",
    "sns.countplot(x=df['sentiment'])\n",
    "plt.title('Sentiment')\n",
    "plt.show()"
   ]
  },
  {
   "cell_type": "code",
   "execution_count": 12,
   "id": "e000af2f",
   "metadata": {
    "execution": {
     "iopub.execute_input": "2023-12-29T09:41:38.059777Z",
     "iopub.status.busy": "2023-12-29T09:41:38.059432Z",
     "iopub.status.idle": "2023-12-29T09:41:38.071384Z",
     "shell.execute_reply": "2023-12-29T09:41:38.070566Z"
    },
    "papermill": {
     "duration": 0.029016,
     "end_time": "2023-12-29T09:41:38.073385",
     "exception": false,
     "start_time": "2023-12-29T09:41:38.044369",
     "status": "completed"
    },
    "tags": []
   },
   "outputs": [
    {
     "data": {
      "text/plain": [
       "sentiment\n",
       "neutral       8638\n",
       "worry         8459\n",
       "happiness     5209\n",
       "sadness       5165\n",
       "love          3842\n",
       "surprise      2187\n",
       "fun           1776\n",
       "relief        1526\n",
       "hate          1323\n",
       "empty          827\n",
       "enthusiasm     759\n",
       "boredom        179\n",
       "anger          110\n",
       "Name: count, dtype: int64"
      ]
     },
     "execution_count": 12,
     "metadata": {},
     "output_type": "execute_result"
    }
   ],
   "source": [
    "df['sentiment'].value_counts()"
   ]
  },
  {
   "cell_type": "markdown",
   "id": "a8abe3e2",
   "metadata": {
    "papermill": {
     "duration": 0.014528,
     "end_time": "2023-12-29T09:41:38.102298",
     "exception": false,
     "start_time": "2023-12-29T09:41:38.087770",
     "status": "completed"
    },
    "tags": []
   },
   "source": [
    "Distribusi sentimen menunjukkan bahwa sentimen yang paling umum dalam dataset ini adalah \"neutral\" dengan 8.638 record. Sebaliknya, sentimen seperti \"anger\" dengan hanya 110 record, lebih jarang terjadi. Pada tahap preprocessing, dengan mempertimbangkan dampak potensial dari imbalance class, mungkin masuk akal untuk menghapus sentiment dengan record yang sedikit untuk memastikan representasi yang seimbang di seluruh set data."
   ]
  },
  {
   "cell_type": "code",
   "execution_count": 13,
   "id": "65b24243",
   "metadata": {
    "execution": {
     "iopub.execute_input": "2023-12-29T09:41:38.132580Z",
     "iopub.status.busy": "2023-12-29T09:41:38.132242Z",
     "iopub.status.idle": "2023-12-29T09:41:38.158728Z",
     "shell.execute_reply": "2023-12-29T09:41:38.157825Z"
    },
    "papermill": {
     "duration": 0.044089,
     "end_time": "2023-12-29T09:41:38.160764",
     "exception": false,
     "start_time": "2023-12-29T09:41:38.116675",
     "status": "completed"
    },
    "tags": []
   },
   "outputs": [
    {
     "data": {
      "text/plain": [
       "False"
      ]
     },
     "execution_count": 13,
     "metadata": {},
     "output_type": "execute_result"
    }
   ],
   "source": [
    "df.duplicated().any()"
   ]
  },
  {
   "cell_type": "markdown",
   "id": "b58da0bb",
   "metadata": {
    "papermill": {
     "duration": 0.014119,
     "end_time": "2023-12-29T09:41:38.189925",
     "exception": false,
     "start_time": "2023-12-29T09:41:38.175806",
     "status": "completed"
    },
    "tags": []
   },
   "source": [
    "Tidak terdapat duplicate record"
   ]
  },
  {
   "cell_type": "markdown",
   "id": "9cf4bbc7",
   "metadata": {
    "papermill": {
     "duration": 0.014047,
     "end_time": "2023-12-29T09:41:38.218198",
     "exception": false,
     "start_time": "2023-12-29T09:41:38.204151",
     "status": "completed"
    },
    "tags": []
   },
   "source": [
    "## <p style=\"border: 2px solid black; font-family: Arial, sans-serif; font-size: 200%; text-align: center; color: black; padding: 10px;border-radius: 10px;\">Data Preprocessing</p>"
   ]
  },
  {
   "cell_type": "markdown",
   "id": "938664f9",
   "metadata": {
    "papermill": {
     "duration": 0.014037,
     "end_time": "2023-12-29T09:41:38.246311",
     "exception": false,
     "start_time": "2023-12-29T09:41:38.232274",
     "status": "completed"
    },
    "tags": []
   },
   "source": [
    "Sebelum masuk me data preprocessing, Kami melakukan splitting dataset untuk menghidari terjadinya data leakage."
   ]
  },
  {
   "cell_type": "code",
   "execution_count": 14,
   "id": "66e65852",
   "metadata": {
    "execution": {
     "iopub.execute_input": "2023-12-29T09:41:38.276981Z",
     "iopub.status.busy": "2023-12-29T09:41:38.276129Z",
     "iopub.status.idle": "2023-12-29T09:41:38.764865Z",
     "shell.execute_reply": "2023-12-29T09:41:38.763765Z"
    },
    "papermill": {
     "duration": 0.506905,
     "end_time": "2023-12-29T09:41:38.767274",
     "exception": false,
     "start_time": "2023-12-29T09:41:38.260369",
     "status": "completed"
    },
    "tags": []
   },
   "outputs": [],
   "source": [
    "from sklearn.model_selection import train_test_split"
   ]
  },
  {
   "cell_type": "code",
   "execution_count": 15,
   "id": "1e2e63f0",
   "metadata": {
    "execution": {
     "iopub.execute_input": "2023-12-29T09:41:38.798789Z",
     "iopub.status.busy": "2023-12-29T09:41:38.798429Z",
     "iopub.status.idle": "2023-12-29T09:41:38.802707Z",
     "shell.execute_reply": "2023-12-29T09:41:38.801819Z"
    },
    "papermill": {
     "duration": 0.022657,
     "end_time": "2023-12-29T09:41:38.804721",
     "exception": false,
     "start_time": "2023-12-29T09:41:38.782064",
     "status": "completed"
    },
    "tags": []
   },
   "outputs": [],
   "source": [
    "X = df['content']\n",
    "y = df['sentiment']"
   ]
  },
  {
   "cell_type": "code",
   "execution_count": 16,
   "id": "c91f4357",
   "metadata": {
    "execution": {
     "iopub.execute_input": "2023-12-29T09:41:38.834776Z",
     "iopub.status.busy": "2023-12-29T09:41:38.834460Z",
     "iopub.status.idle": "2023-12-29T09:41:38.848065Z",
     "shell.execute_reply": "2023-12-29T09:41:38.846998Z"
    },
    "papermill": {
     "duration": 0.030819,
     "end_time": "2023-12-29T09:41:38.850006",
     "exception": false,
     "start_time": "2023-12-29T09:41:38.819187",
     "status": "completed"
    },
    "tags": []
   },
   "outputs": [],
   "source": [
    "X_train, X_temp, y_train, y_temp = train_test_split(X, y, test_size=0.3, random_state=777)\n",
    "X_val, X_test, y_val, y_test = train_test_split(X_temp, y_temp, test_size=0.5, random_state=777)"
   ]
  },
  {
   "cell_type": "markdown",
   "id": "04f62ee7",
   "metadata": {
    "papermill": {
     "duration": 0.014464,
     "end_time": "2023-12-29T09:41:38.878777",
     "exception": false,
     "start_time": "2023-12-29T09:41:38.864313",
     "status": "completed"
    },
    "tags": []
   },
   "source": [
    "Kami menggunakan dataset split 70% training, 15% testing, dan 15% validation."
   ]
  },
  {
   "cell_type": "code",
   "execution_count": 17,
   "id": "7dd2b00a",
   "metadata": {
    "execution": {
     "iopub.execute_input": "2023-12-29T09:41:38.909093Z",
     "iopub.status.busy": "2023-12-29T09:41:38.908320Z",
     "iopub.status.idle": "2023-12-29T09:41:40.029794Z",
     "shell.execute_reply": "2023-12-29T09:41:40.028784Z"
    },
    "papermill": {
     "duration": 1.138929,
     "end_time": "2023-12-29T09:41:40.031944",
     "exception": false,
     "start_time": "2023-12-29T09:41:38.893015",
     "status": "completed"
    },
    "tags": []
   },
   "outputs": [
    {
     "name": "stdout",
     "output_type": "stream",
     "text": [
      "[nltk_data] Downloading package punkt to /usr/share/nltk_data...\n",
      "[nltk_data]   Package punkt is already up-to-date!\n",
      "[nltk_data] Downloading package stopwords to /usr/share/nltk_data...\n",
      "[nltk_data]   Package stopwords is already up-to-date!\n"
     ]
    }
   ],
   "source": [
    "import re\n",
    "import nltk\n",
    "from nltk.tokenize import word_tokenize\n",
    "nltk.download('punkt')\n",
    "from nltk.corpus import stopwords\n",
    "nltk.download('stopwords')\n",
    "from nltk.stem import PorterStemmer"
   ]
  },
  {
   "cell_type": "markdown",
   "id": "a4e5eecd",
   "metadata": {
    "papermill": {
     "duration": 0.015257,
     "end_time": "2023-12-29T09:41:40.062855",
     "exception": false,
     "start_time": "2023-12-29T09:41:40.047598",
     "status": "completed"
    },
    "tags": []
   },
   "source": [
    "## Data Cleaning"
   ]
  },
  {
   "cell_type": "code",
   "execution_count": 18,
   "id": "7d28f946",
   "metadata": {
    "execution": {
     "iopub.execute_input": "2023-12-29T09:41:40.094961Z",
     "iopub.status.busy": "2023-12-29T09:41:40.094589Z",
     "iopub.status.idle": "2023-12-29T09:41:40.101929Z",
     "shell.execute_reply": "2023-12-29T09:41:40.100948Z"
    },
    "papermill": {
     "duration": 0.025806,
     "end_time": "2023-12-29T09:41:40.104034",
     "exception": false,
     "start_time": "2023-12-29T09:41:40.078228",
     "status": "completed"
    },
    "tags": []
   },
   "outputs": [],
   "source": [
    "def cleansing(df):\n",
    "    # Mengubah menjadi lowercase\n",
    "    df_clean = df.str.lower()\n",
    "\n",
    "    # Menghapus URL\n",
    "    df_clean = [re.sub(r'http\\S+', '', i) for i in df_clean]\n",
    "\n",
    "    # Menhapus mention (@random)\n",
    "    df_clean = [re.sub(r'@[\\w_]+', '', i) for i in df_clean]\n",
    "\n",
    "    # Menghapus hashtag\n",
    "    df_clean = [re.sub(r'#', '', i) for i in df_clean]\n",
    "\n",
    "    # Menghapus angka\n",
    "    df_clean = [re.sub(r'\\d+', '', i) for i in df_clean]\n",
    "\n",
    "    # Menghapus non-word characters \n",
    "    df_clean = [re.sub(r'[^\\w\\s]', ' ', i) for i in df_clean]\n",
    "\n",
    "    # Menghapus extra whitespaces\n",
    "    df_clean = [re.sub(r'\\s+', ' ', i).strip() for i in df_clean]\n",
    "\n",
    "    return df_clean"
   ]
  },
  {
   "cell_type": "code",
   "execution_count": 19,
   "id": "0759c7a7",
   "metadata": {
    "execution": {
     "iopub.execute_input": "2023-12-29T09:41:40.135223Z",
     "iopub.status.busy": "2023-12-29T09:41:40.134888Z",
     "iopub.status.idle": "2023-12-29T09:41:40.938729Z",
     "shell.execute_reply": "2023-12-29T09:41:40.937711Z"
    },
    "papermill": {
     "duration": 0.822017,
     "end_time": "2023-12-29T09:41:40.941131",
     "exception": false,
     "start_time": "2023-12-29T09:41:40.119114",
     "status": "completed"
    },
    "tags": []
   },
   "outputs": [],
   "source": [
    "train_clean = cleansing(X_train)\n",
    "test_clean = cleansing(X_test)\n",
    "val_clean = cleansing(X_val)"
   ]
  },
  {
   "cell_type": "markdown",
   "id": "98ba07f1",
   "metadata": {
    "papermill": {
     "duration": 0.014755,
     "end_time": "2023-12-29T09:41:40.970652",
     "exception": false,
     "start_time": "2023-12-29T09:41:40.955897",
     "status": "completed"
    },
    "tags": []
   },
   "source": [
    "## Tokenization + Stopword Removal + Stemming"
   ]
  },
  {
   "cell_type": "code",
   "execution_count": 20,
   "id": "b48de101",
   "metadata": {
    "execution": {
     "iopub.execute_input": "2023-12-29T09:41:41.001168Z",
     "iopub.status.busy": "2023-12-29T09:41:41.000581Z",
     "iopub.status.idle": "2023-12-29T09:41:41.009723Z",
     "shell.execute_reply": "2023-12-29T09:41:41.008860Z"
    },
    "papermill": {
     "duration": 0.026707,
     "end_time": "2023-12-29T09:41:41.011714",
     "exception": false,
     "start_time": "2023-12-29T09:41:40.985007",
     "status": "completed"
    },
    "tags": []
   },
   "outputs": [],
   "source": [
    "stop_words = set(stopwords.words('english'))\n",
    "stemmer = PorterStemmer()\n",
    "\n",
    "def process_text(text):\n",
    "    tokens = word_tokenize(text)\n",
    "    filtered_tokens = [token for token in tokens if token.lower() not in stop_words]\n",
    "    stemmed_tokens = [stemmer.stem(token) for token in filtered_tokens]\n",
    "    return stemmed_tokens"
   ]
  },
  {
   "cell_type": "code",
   "execution_count": 21,
   "id": "035b7f82",
   "metadata": {
    "execution": {
     "iopub.execute_input": "2023-12-29T09:41:41.041684Z",
     "iopub.status.busy": "2023-12-29T09:41:41.041338Z",
     "iopub.status.idle": "2023-12-29T09:41:57.438149Z",
     "shell.execute_reply": "2023-12-29T09:41:57.437355Z"
    },
    "papermill": {
     "duration": 16.41442,
     "end_time": "2023-12-29T09:41:57.440572",
     "exception": false,
     "start_time": "2023-12-29T09:41:41.026152",
     "status": "completed"
    },
    "tags": []
   },
   "outputs": [],
   "source": [
    "train_processed = [process_text(text) for text in train_clean]\n",
    "test_processed = [process_text(text) for text in test_clean]\n",
    "val_processed = [process_text(text) for text in val_clean]"
   ]
  },
  {
   "cell_type": "markdown",
   "id": "4576d21e",
   "metadata": {
    "papermill": {
     "duration": 0.014672,
     "end_time": "2023-12-29T09:41:57.470358",
     "exception": false,
     "start_time": "2023-12-29T09:41:57.455686",
     "status": "completed"
    },
    "tags": []
   },
   "source": [
    "## EDA After Cleaning"
   ]
  },
  {
   "cell_type": "code",
   "execution_count": 22,
   "id": "dd9217f8",
   "metadata": {
    "execution": {
     "iopub.execute_input": "2023-12-29T09:41:57.502012Z",
     "iopub.status.busy": "2023-12-29T09:41:57.501653Z",
     "iopub.status.idle": "2023-12-29T09:41:57.508438Z",
     "shell.execute_reply": "2023-12-29T09:41:57.507591Z"
    },
    "papermill": {
     "duration": 0.025131,
     "end_time": "2023-12-29T09:41:57.510356",
     "exception": false,
     "start_time": "2023-12-29T09:41:57.485225",
     "status": "completed"
    },
    "tags": []
   },
   "outputs": [
    {
     "data": {
      "text/plain": [
       "[['gooni', 'project', 'garag', 'door', 'amaz'],\n",
       " ['hahaha',\n",
       "  'sa',\n",
       "  'una',\n",
       "  'lang',\n",
       "  'yan',\n",
       "  'start',\n",
       "  'minut',\n",
       "  'ng',\n",
       "  'k',\n",
       "  'year',\n",
       "  'ago'],\n",
       " ['wait', 'amp', 'kati', 'alway', 'end', 'best', 'interview'],\n",
       " ['fell', 'think', 'knee', 'broken', 'look', 'fabul'],\n",
       " ['best', 'friend', 'go', 'school', 'other', 'chang', 'school']]"
      ]
     },
     "execution_count": 22,
     "metadata": {},
     "output_type": "execute_result"
    }
   ],
   "source": [
    "val_processed[0:5]"
   ]
  },
  {
   "cell_type": "code",
   "execution_count": 23,
   "id": "598cfcd2",
   "metadata": {
    "execution": {
     "iopub.execute_input": "2023-12-29T09:41:57.542250Z",
     "iopub.status.busy": "2023-12-29T09:41:57.541424Z",
     "iopub.status.idle": "2023-12-29T09:41:57.548334Z",
     "shell.execute_reply": "2023-12-29T09:41:57.547507Z"
    },
    "papermill": {
     "duration": 0.02497,
     "end_time": "2023-12-29T09:41:57.550231",
     "exception": false,
     "start_time": "2023-12-29T09:41:57.525261",
     "status": "completed"
    },
    "tags": []
   },
   "outputs": [
    {
     "data": {
      "text/plain": [
       "[['um',\n",
       "  'happi',\n",
       "  'star',\n",
       "  'war',\n",
       "  'day',\n",
       "  'btw',\n",
       "  'cheer',\n",
       "  'scruffi',\n",
       "  'look',\n",
       "  'nerfherd',\n",
       "  'hot',\n",
       "  'ami'],\n",
       " ['pretti', 'janett', 'exact', 'hey', 'monday', 'band', 'arm'],\n",
       " ['oh',\n",
       "  'man',\n",
       "  'rain',\n",
       "  'seatbelt',\n",
       "  'buckl',\n",
       "  'thank',\n",
       "  'bate',\n",
       "  'wish',\n",
       "  'blow',\n",
       "  'flip',\n",
       "  'burn'],\n",
       " ['thank', 'followfriday'],\n",
       " ['two', 'day', 'comcast', 'technician', 'schedul', 'tomorrow', 'morn']]"
      ]
     },
     "execution_count": 23,
     "metadata": {},
     "output_type": "execute_result"
    }
   ],
   "source": [
    "test_processed[0:5]"
   ]
  },
  {
   "cell_type": "markdown",
   "id": "038410f0",
   "metadata": {
    "papermill": {
     "duration": 0.014886,
     "end_time": "2023-12-29T09:41:57.580204",
     "exception": false,
     "start_time": "2023-12-29T09:41:57.565318",
     "status": "completed"
    },
    "tags": []
   },
   "source": [
    "## <p style=\"border: 2px solid black; font-family: Arial, sans-serif; font-size: 200%; text-align: center; color: black; padding: 10px;border-radius: 10px;\">Vectorization + Modelling + Experimentation</p>"
   ]
  },
  {
   "cell_type": "code",
   "execution_count": 24,
   "id": "d6120dd1",
   "metadata": {
    "execution": {
     "iopub.execute_input": "2023-12-29T09:41:57.612585Z",
     "iopub.status.busy": "2023-12-29T09:41:57.611737Z",
     "iopub.status.idle": "2023-12-29T09:41:57.869468Z",
     "shell.execute_reply": "2023-12-29T09:41:57.868471Z"
    },
    "papermill": {
     "duration": 0.276574,
     "end_time": "2023-12-29T09:41:57.871839",
     "exception": false,
     "start_time": "2023-12-29T09:41:57.595265",
     "status": "completed"
    },
    "tags": []
   },
   "outputs": [],
   "source": [
    "from sklearn.pipeline import Pipeline\n",
    "from sklearn.ensemble import RandomForestClassifier\n",
    "from sklearn.linear_model import LogisticRegression\n",
    "from sklearn.tree import DecisionTreeClassifier\n",
    "from sklearn.naive_bayes import MultinomialNB\n",
    "from sklearn.linear_model import SGDClassifier\n",
    "from sklearn.feature_extraction.text import TfidfVectorizer\n",
    "from sklearn.metrics import classification_report"
   ]
  },
  {
   "cell_type": "markdown",
   "id": "489e1c01",
   "metadata": {
    "papermill": {
     "duration": 0.015044,
     "end_time": "2023-12-29T09:41:57.903548",
     "exception": false,
     "start_time": "2023-12-29T09:41:57.888504",
     "status": "completed"
    },
    "tags": []
   },
   "source": [
    "## Baseline Model"
   ]
  },
  {
   "cell_type": "markdown",
   "id": "18f64b3c",
   "metadata": {
    "papermill": {
     "duration": 0.014937,
     "end_time": "2023-12-29T09:41:57.933687",
     "exception": false,
     "start_time": "2023-12-29T09:41:57.918750",
     "status": "completed"
    },
    "tags": []
   },
   "source": [
    "Untuk baseline model, Kami menggunakan machine learning model, yaitu Multinomial Logistic Regression, Decision Tree, dan Random Forest."
   ]
  },
  {
   "cell_type": "markdown",
   "id": "01d9d0e9",
   "metadata": {
    "papermill": {
     "duration": 0.015318,
     "end_time": "2023-12-29T09:41:57.964980",
     "exception": false,
     "start_time": "2023-12-29T09:41:57.949662",
     "status": "completed"
    },
    "tags": []
   },
   "source": [
    "Menggunakan Tf-IDF"
   ]
  },
  {
   "cell_type": "markdown",
   "id": "6718b710",
   "metadata": {
    "papermill": {
     "duration": 0.015081,
     "end_time": "2023-12-29T09:41:57.995341",
     "exception": false,
     "start_time": "2023-12-29T09:41:57.980260",
     "status": "completed"
    },
    "tags": []
   },
   "source": [
    "Membuat pipeline agar lebih mudah dalam tahap vectorization, modelling, dan experimentation"
   ]
  },
  {
   "cell_type": "code",
   "execution_count": 25,
   "id": "576b8f41",
   "metadata": {
    "execution": {
     "iopub.execute_input": "2023-12-29T09:41:58.027609Z",
     "iopub.status.busy": "2023-12-29T09:41:58.026756Z",
     "iopub.status.idle": "2023-12-29T09:41:58.032049Z",
     "shell.execute_reply": "2023-12-29T09:41:58.031108Z"
    },
    "papermill": {
     "duration": 0.023935,
     "end_time": "2023-12-29T09:41:58.034144",
     "exception": false,
     "start_time": "2023-12-29T09:41:58.010209",
     "status": "completed"
    },
    "tags": []
   },
   "outputs": [],
   "source": [
    "def training_tfidf(model, data, target):\n",
    "    mod = Pipeline([('vect',TfidfVectorizer()),\n",
    "                   ('clf',model)])\n",
    "    mod.fit(data,target)\n",
    "    return mod"
   ]
  },
  {
   "cell_type": "markdown",
   "id": "4dbd175f",
   "metadata": {
    "papermill": {
     "duration": 0.014985,
     "end_time": "2023-12-29T09:41:58.064225",
     "exception": false,
     "start_time": "2023-12-29T09:41:58.049240",
     "status": "completed"
    },
    "tags": []
   },
   "source": [
    "## Decision Tree Model"
   ]
  },
  {
   "cell_type": "code",
   "execution_count": 26,
   "id": "4de8ecba",
   "metadata": {
    "execution": {
     "iopub.execute_input": "2023-12-29T09:41:58.097246Z",
     "iopub.status.busy": "2023-12-29T09:41:58.096426Z",
     "iopub.status.idle": "2023-12-29T09:42:20.070203Z",
     "shell.execute_reply": "2023-12-29T09:42:20.069139Z"
    },
    "papermill": {
     "duration": 21.992758,
     "end_time": "2023-12-29T09:42:20.072590",
     "exception": false,
     "start_time": "2023-12-29T09:41:58.079832",
     "status": "completed"
    },
    "tags": []
   },
   "outputs": [
    {
     "name": "stdout",
     "output_type": "stream",
     "text": [
      "              precision    recall  f1-score   support\n",
      "\n",
      "       anger       0.00      0.00      0.00        17\n",
      "     boredom       0.00      0.00      0.00        21\n",
      "       empty       0.06      0.04      0.05       145\n",
      "  enthusiasm       0.01      0.01      0.01       118\n",
      "         fun       0.10      0.07      0.09       281\n",
      "   happiness       0.23      0.24      0.23       776\n",
      "        hate       0.17      0.12      0.14       203\n",
      "        love       0.30      0.29      0.29       570\n",
      "     neutral       0.29      0.36      0.32      1270\n",
      "      relief       0.07      0.05      0.05       257\n",
      "     sadness       0.22      0.22      0.22       779\n",
      "    surprise       0.07      0.06      0.07       326\n",
      "       worry       0.26      0.28      0.27      1237\n",
      "\n",
      "    accuracy                           0.23      6000\n",
      "   macro avg       0.14      0.13      0.13      6000\n",
      "weighted avg       0.22      0.23      0.23      6000\n",
      "\n"
     ]
    }
   ],
   "source": [
    "DTree = training_tfidf(DecisionTreeClassifier(random_state = 777), X_train, y_train)\n",
    "y_pred=DTree.predict(X_test)\n",
    "print(classification_report(y_test, y_pred))"
   ]
  },
  {
   "cell_type": "markdown",
   "id": "1ca4eb5e",
   "metadata": {
    "papermill": {
     "duration": 0.014953,
     "end_time": "2023-12-29T09:42:20.103655",
     "exception": false,
     "start_time": "2023-12-29T09:42:20.088702",
     "status": "completed"
    },
    "tags": []
   },
   "source": [
    "## Random Forest Model"
   ]
  },
  {
   "cell_type": "code",
   "execution_count": 27,
   "id": "ebdd7689",
   "metadata": {
    "execution": {
     "iopub.execute_input": "2023-12-29T09:42:20.134948Z",
     "iopub.status.busy": "2023-12-29T09:42:20.134260Z",
     "iopub.status.idle": "2023-12-29T09:44:41.662144Z",
     "shell.execute_reply": "2023-12-29T09:44:41.661135Z"
    },
    "papermill": {
     "duration": 141.56049,
     "end_time": "2023-12-29T09:44:41.678833",
     "exception": false,
     "start_time": "2023-12-29T09:42:20.118343",
     "status": "completed"
    },
    "tags": []
   },
   "outputs": [
    {
     "name": "stdout",
     "output_type": "stream",
     "text": [
      "              precision    recall  f1-score   support\n",
      "\n",
      "       anger       0.00      0.00      0.00        17\n",
      "     boredom       0.00      0.00      0.00        21\n",
      "       empty       0.14      0.01      0.01       145\n",
      "  enthusiasm       0.00      0.00      0.00       118\n",
      "         fun       0.12      0.01      0.01       281\n",
      "   happiness       0.33      0.27      0.29       776\n",
      "        hate       0.47      0.07      0.13       203\n",
      "        love       0.50      0.35      0.41       570\n",
      "     neutral       0.30      0.58      0.40      1270\n",
      "      relief       0.14      0.01      0.01       257\n",
      "     sadness       0.34      0.16      0.22       779\n",
      "    surprise       0.18      0.01      0.02       326\n",
      "       worry       0.29      0.48      0.36      1237\n",
      "\n",
      "    accuracy                           0.32      6000\n",
      "   macro avg       0.22      0.15      0.14      6000\n",
      "weighted avg       0.30      0.32      0.27      6000\n",
      "\n"
     ]
    }
   ],
   "source": [
    "RandFor = training_tfidf(RandomForestClassifier(random_state = 777), X_train, y_train)\n",
    "y_pred=RandFor.predict(X_test)\n",
    "print(classification_report(y_test, y_pred))"
   ]
  },
  {
   "cell_type": "markdown",
   "id": "b3a6446d",
   "metadata": {
    "papermill": {
     "duration": 0.014583,
     "end_time": "2023-12-29T09:44:41.708931",
     "exception": false,
     "start_time": "2023-12-29T09:44:41.694348",
     "status": "completed"
    },
    "tags": []
   },
   "source": [
    "## Logistic Regression Model"
   ]
  },
  {
   "cell_type": "code",
   "execution_count": 28,
   "id": "1d9c9777",
   "metadata": {
    "execution": {
     "iopub.execute_input": "2023-12-29T09:44:41.743045Z",
     "iopub.status.busy": "2023-12-29T09:44:41.742378Z",
     "iopub.status.idle": "2023-12-29T09:45:29.113087Z",
     "shell.execute_reply": "2023-12-29T09:45:29.112128Z"
    },
    "papermill": {
     "duration": 47.407153,
     "end_time": "2023-12-29T09:45:29.131111",
     "exception": false,
     "start_time": "2023-12-29T09:44:41.723958",
     "status": "completed"
    },
    "tags": []
   },
   "outputs": [
    {
     "name": "stdout",
     "output_type": "stream",
     "text": [
      "              precision    recall  f1-score   support\n",
      "\n",
      "       anger       0.00      0.00      0.00        17\n",
      "     boredom       0.00      0.00      0.00        21\n",
      "       empty       0.00      0.00      0.00       145\n",
      "  enthusiasm       0.00      0.00      0.00       118\n",
      "         fun       0.17      0.02      0.04       281\n",
      "   happiness       0.34      0.38      0.36       776\n",
      "        hate       0.42      0.09      0.15       203\n",
      "        love       0.49      0.37      0.42       570\n",
      "     neutral       0.35      0.55      0.43      1270\n",
      "      relief       0.40      0.03      0.06       257\n",
      "     sadness       0.34      0.25      0.29       779\n",
      "    surprise       0.29      0.03      0.06       326\n",
      "       worry       0.32      0.52      0.40      1237\n",
      "\n",
      "    accuracy                           0.35      6000\n",
      "   macro avg       0.24      0.17      0.17      6000\n",
      "weighted avg       0.33      0.35      0.31      6000\n",
      "\n"
     ]
    }
   ],
   "source": [
    "LogReg = training_tfidf(LogisticRegression(multi_class='multinomial', solver='lbfgs', max_iter=1000), X_train, y_train)\n",
    "y_pred=LogReg.predict(X_test)\n",
    "print(classification_report(y_test, y_pred))"
   ]
  },
  {
   "cell_type": "markdown",
   "id": "665f73d5",
   "metadata": {
    "papermill": {
     "duration": 0.01457,
     "end_time": "2023-12-29T09:45:29.160493",
     "exception": false,
     "start_time": "2023-12-29T09:45:29.145923",
     "status": "completed"
    },
    "tags": []
   },
   "source": [
    "## Multinomial Naive Bayes"
   ]
  },
  {
   "cell_type": "code",
   "execution_count": 29,
   "id": "e4522719",
   "metadata": {
    "execution": {
     "iopub.execute_input": "2023-12-29T09:45:29.191985Z",
     "iopub.status.busy": "2023-12-29T09:45:29.191180Z",
     "iopub.status.idle": "2023-12-29T09:45:30.244627Z",
     "shell.execute_reply": "2023-12-29T09:45:30.243365Z"
    },
    "papermill": {
     "duration": 1.071509,
     "end_time": "2023-12-29T09:45:30.246694",
     "exception": false,
     "start_time": "2023-12-29T09:45:29.175185",
     "status": "completed"
    },
    "tags": []
   },
   "outputs": [
    {
     "name": "stdout",
     "output_type": "stream",
     "text": [
      "              precision    recall  f1-score   support\n",
      "\n",
      "       anger       0.00      0.00      0.00        17\n",
      "     boredom       0.00      0.00      0.00        21\n",
      "       empty       0.00      0.00      0.00       145\n",
      "  enthusiasm       0.00      0.00      0.00       118\n",
      "         fun       0.00      0.00      0.00       281\n",
      "   happiness       0.39      0.09      0.14       776\n",
      "        hate       0.00      0.00      0.00       203\n",
      "        love       0.62      0.13      0.21       570\n",
      "     neutral       0.29      0.40      0.34      1270\n",
      "      relief       0.00      0.00      0.00       257\n",
      "     sadness       0.18      0.00      0.01       779\n",
      "    surprise       0.00      0.00      0.00       326\n",
      "       worry       0.25      0.81      0.38      1237\n",
      "\n",
      "    accuracy                           0.27      6000\n",
      "   macro avg       0.13      0.11      0.08      6000\n",
      "weighted avg       0.25      0.27      0.19      6000\n",
      "\n"
     ]
    }
   ],
   "source": [
    "NaiveBay = training_tfidf(MultinomialNB(), X_train, y_train)\n",
    "y_pred=NaiveBay.predict(X_test)\n",
    "print(classification_report(y_test, y_pred))"
   ]
  },
  {
   "cell_type": "markdown",
   "id": "065bc280",
   "metadata": {
    "papermill": {
     "duration": 0.015805,
     "end_time": "2023-12-29T09:45:30.277752",
     "exception": false,
     "start_time": "2023-12-29T09:45:30.261947",
     "status": "completed"
    },
    "tags": []
   },
   "source": [
    "## Linear SVM"
   ]
  },
  {
   "cell_type": "code",
   "execution_count": 30,
   "id": "1596e669",
   "metadata": {
    "execution": {
     "iopub.execute_input": "2023-12-29T09:45:30.309286Z",
     "iopub.status.busy": "2023-12-29T09:45:30.308970Z",
     "iopub.status.idle": "2023-12-29T09:45:31.782823Z",
     "shell.execute_reply": "2023-12-29T09:45:31.781790Z"
    },
    "papermill": {
     "duration": 1.492265,
     "end_time": "2023-12-29T09:45:31.785064",
     "exception": false,
     "start_time": "2023-12-29T09:45:30.292799",
     "status": "completed"
    },
    "tags": []
   },
   "outputs": [
    {
     "name": "stdout",
     "output_type": "stream",
     "text": [
      "              precision    recall  f1-score   support\n",
      "\n",
      "       anger       0.00      0.00      0.00        17\n",
      "     boredom       0.00      0.00      0.00        21\n",
      "       empty       0.00      0.00      0.00       145\n",
      "  enthusiasm       0.00      0.00      0.00       118\n",
      "         fun       0.11      0.07      0.09       281\n",
      "   happiness       0.31      0.32      0.32       776\n",
      "        hate       0.29      0.20      0.24       203\n",
      "        love       0.38      0.46      0.42       570\n",
      "     neutral       0.37      0.36      0.37      1270\n",
      "      relief       0.18      0.06      0.09       257\n",
      "     sadness       0.29      0.27      0.28       779\n",
      "    surprise       0.14      0.06      0.09       326\n",
      "       worry       0.33      0.49      0.39      1237\n",
      "\n",
      "    accuracy                           0.32      6000\n",
      "   macro avg       0.18      0.18      0.17      6000\n",
      "weighted avg       0.29      0.32      0.30      6000\n",
      "\n"
     ]
    }
   ],
   "source": [
    "sgd = training_tfidf(SGDClassifier(loss='hinge', penalty='l2', alpha=1e-3, random_state=777, max_iter=5, tol=None), X_train, y_train)\n",
    "y_pred=sgd.predict(X_test)\n",
    "print(classification_report(y_test, y_pred))"
   ]
  },
  {
   "cell_type": "markdown",
   "id": "10d3611e",
   "metadata": {
    "papermill": {
     "duration": 0.01482,
     "end_time": "2023-12-29T09:45:31.816314",
     "exception": false,
     "start_time": "2023-12-29T09:45:31.801494",
     "status": "completed"
    },
    "tags": []
   },
   "source": [
    "## LLM MODEL"
   ]
  },
  {
   "cell_type": "code",
   "execution_count": null,
   "id": "b3a30333",
   "metadata": {
    "papermill": {
     "duration": 0.01478,
     "end_time": "2023-12-29T09:45:31.846102",
     "exception": false,
     "start_time": "2023-12-29T09:45:31.831322",
     "status": "completed"
    },
    "tags": []
   },
   "outputs": [],
   "source": []
  },
  {
   "cell_type": "markdown",
   "id": "3e1c1a4d",
   "metadata": {
    "papermill": {
     "duration": 0.019141,
     "end_time": "2023-12-29T09:45:31.882409",
     "exception": false,
     "start_time": "2023-12-29T09:45:31.863268",
     "status": "completed"
    },
    "tags": []
   },
   "source": [
    "## <p style=\"border: 2px solid black; font-family: Arial, sans-serif; font-size: 200%; text-align: center; color: black; padding: 10px;border-radius: 10px;\">Evaluation</p>"
   ]
  },
  {
   "cell_type": "markdown",
   "id": "8e5aea50",
   "metadata": {
    "papermill": {
     "duration": 0.020973,
     "end_time": "2023-12-29T09:45:31.924614",
     "exception": false,
     "start_time": "2023-12-29T09:45:31.903641",
     "status": "completed"
    },
    "tags": []
   },
   "source": [
    "Multinomial Naive Bayes dan Linear SVM memiliki performa yang lumayan baik dengan waktu eksekusi yang sangat cepat."
   ]
  },
  {
   "cell_type": "code",
   "execution_count": null,
   "id": "4c558a88",
   "metadata": {
    "papermill": {
     "duration": 0.015,
     "end_time": "2023-12-29T09:45:31.955421",
     "exception": false,
     "start_time": "2023-12-29T09:45:31.940421",
     "status": "completed"
    },
    "tags": []
   },
   "outputs": [],
   "source": []
  }
 ],
 "metadata": {
  "kaggle": {
   "accelerator": "nvidiaTeslaT4",
   "dataSources": [
    {
     "datasetId": 1116138,
     "sourceId": 1874890,
     "sourceType": "datasetVersion"
    }
   ],
   "dockerImageVersionId": 30587,
   "isGpuEnabled": true,
   "isInternetEnabled": true,
   "language": "python",
   "sourceType": "notebook"
  },
  "kernelspec": {
   "display_name": "Python 3",
   "language": "python",
   "name": "python3"
  },
  "language_info": {
   "codemirror_mode": {
    "name": "ipython",
    "version": 3
   },
   "file_extension": ".py",
   "mimetype": "text/x-python",
   "name": "python",
   "nbconvert_exporter": "python",
   "pygments_lexer": "ipython3",
   "version": "3.10.12"
  },
  "papermill": {
   "default_parameters": {},
   "duration": 243.470122,
   "end_time": "2023-12-29T09:45:32.590651",
   "environment_variables": {},
   "exception": null,
   "input_path": "__notebook__.ipynb",
   "output_path": "__notebook__.ipynb",
   "parameters": {},
   "start_time": "2023-12-29T09:41:29.120529",
   "version": "2.4.0"
  }
 },
 "nbformat": 4,
 "nbformat_minor": 5
}
